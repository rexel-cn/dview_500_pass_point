{
 "cells": [
  {
   "cell_type": "code",
   "execution_count": null,
   "outputs": [],
   "source": [
    "from config import sheet_list\n",
    "from openpyxl import load_workbook\n",
    "\n",
    "file_home = 'data\\\\Config_20210513.xlsx'\n",
    "out_file_home = 'data\\\\Config_20210513_passv1.xlsx'\n",
    "wb = load_workbook(filename=file_home)\n",
    "\n",
    "\n",
    "def load_index_cache():\n",
    "    ws = wb['监控对象']\n",
    "    montier_obj = {}\n",
    "    rows = ws.rows\n",
    "    columns = ws.columns\n",
    "    # 迭代所有的行\n",
    "    for row in rows:\n",
    "        line = [col.value for col in row]\n",
    "        montier_obj[line[0]] = \"\"\n",
    "    return montier_obj\n",
    "\n",
    "\n",
    "montier_obj = load_index_cache()"
   ],
   "metadata": {
    "collapsed": false,
    "pycharm": {
     "name": "#%%\n"
    }
   }
  },
  {
   "cell_type": "code",
   "execution_count": null,
   "outputs": [],
   "source": [
    "gl_all_data_kv = {}\n",
    "for sheet_var in sheet_list:\n",
    "    column_index = sheet_var.split(\"=\")[1]\n",
    "    sheet_name = sheet_var.split(\"=\")[0]\n",
    "    wss = wb[sheet_name]\n",
    "    # rows = wss.rows\n",
    "    # columns = wss.columns\n",
    "    # 迭代所有的行\n",
    "    for index, row in enumerate(wss.rows, start=2):\n",
    "        temp_value = wss.cell(row=index, column=int(column_index)).value\n",
    "        if temp_value == None:\n",
    "            continue\n",
    "        if len(temp_value) >= 20:\n",
    "            print(\"{} len =  {}  :default max20\".format(sheet_name, temp_value))\n",
    "\n",
    "        for key, values in montier_obj.items():\n",
    "            if key in temp_value:\n",
    "                montier_obj[key] = sheet_name\n",
    "                if gl_all_data_kv[key] is not None:\n",
    "                   temp_a = gl_all_data_kv[key]\n",
    "                   temp_a.append(temp_value)\n",
    "                   gl_all_data_kv[key] = temp_a\n",
    "                else:\n",
    "                    gl_all_data_kv[key] = []\n",
    "                    temp_a = gl_all_data_kv[key]\n",
    "                    temp_a.append(temp_value)\n",
    "                    gl_all_data_kv[key] = temp_a\n",
    "\n",
    "\n",
    "\n",
    "\n",
    "        temp_value = temp_value.replace(\"ERROR\", \"ERR\")\n",
    "        temp_value = temp_value.replace(\"OPEN\", \"OP\")\n",
    "        temp_value = temp_value.replace(\"OPEND\", \"OPD\")\n",
    "        temp_value = temp_value.replace(\"SUCCESS\", \"SUCC\")\n",
    "        temp_value = temp_value.replace(\"CLOSE\", \"CL\")\n",
    "        temp_value = temp_value.replace(\"CLOSED\", \"CLD\")\n",
    "        temp_value = temp_value.replace(\"_A\", \"_\")\n",
    "        temp_value = temp_value.replace(\".\", \"_\")\n",
    "        temp_value = temp_value.replace(\"HIHIDB\", \"2HID\")\n",
    "        temp_value = temp_value.replace(\"HIHILIM\", \"2HILIM\")\n",
    "        temp_value = temp_value.replace(\"#\", \"\")\n",
    "        temp_value = temp_value.replace(\"__\", \"_\")\n",
    "        temp_value = temp_value.replace(\"START/STOP\", \"SCS\")\n",
    "        temp_value = temp_value.replace(\"START\", \"STR\")\n",
    "        temp_value = temp_value.replace(\"STOP\", \"STP\")\n",
    "        temp_value = temp_value.replace(\"BYPASS\", \"BP\")\n",
    "        temp_value = temp_value.replace(\"RUNTIME\", \"RT\")\n",
    "        temp_value = temp_value.replace(\"INTERVAL\", \"INR\")\n",
    "        temp_value = temp_value.replace(\"OUT_WATER_TIME\", \"OWT\")\n",
    "        temp_value = temp_value.replace(\"IN_WATER_TIME\", \"IWT\")\n",
    "        temp_value = temp_value.replace(\"JIANYEXIELOU\", \"JYXL\")\n",
    "        temp_value = temp_value.replace(\"RUN\", \"R\")\n",
    "        temp_value = temp_value.replace(\"LOLO\", \"LL\")\n",
    "        temp_value = temp_value.replace(\"RESET\", \"RST\")\n",
    "        temp_value = temp_value.replace(\"HIHI\", \"HH\")\n",
    "        temp_value = temp_value.replace(\"LOCAL\", \"LCA\")\n",
    "        temp_value = temp_value.replace(\"BLOW_TIME\", \"BT\")\n",
    "        temp_value = temp_value.replace(\"MANUAL\", \"MAN\")\n",
    "        temp_value = temp_value.replace(\"GAS_OUTLET_BQ\", \"GOB\")\n",
    "        temp_value = temp_value.replace(\"BLOW_TIME_BQ\", \"BOB\")\n",
    "        temp_value = temp_value.replace(\"RECEIVE\", \"RECV\")\n",
    "        temp_value = temp_value.replace(\"(\", \"\")\n",
    "        temp_value = temp_value.replace(\")\", \"\")\n",
    "        temp_value = temp_value.replace(\"#\", \"\")\n",
    "        temp_value = \"{}_{}\".format(sheet_name, temp_value)\n",
    "        wss.cell(row=index, column=int(column_index)).value = temp_value\n",
    "    # wb.save(out_file_home)\n",
    "\n",
    "    print(montier_obj)\n",
    "ws1 = wb['监控对象']\n",
    "for index1, row1 in enumerate(ws1.rows, start=1):\n",
    "    temp_val_ = ws1.cell(row=index1, column=int(1)).value\n",
    "    if temp_val_ != None:\n",
    "        ws1.cell(row=index1, column=int(1)).value = \"{}_{}\".format(montier_obj[temp_val_], temp_val_)\n",
    "wb.save(out_file_home)\n",
    "print(gl_all_data_kv)"
   ],
   "metadata": {
    "collapsed": false,
    "pycharm": {
     "name": "#%%\n"
    }
   }
  },
  {
   "cell_type": "code",
   "execution_count": null,
   "outputs": [],
   "source": [
    "print(\"检查是否超过长度............................\")\n",
    "out_file_home = 'data\\\\Config_20210513_passv1.xlsx'\n",
    "wb = load_workbook(filename=out_file_home)\n",
    "for sheet_var in sheet_list:\n",
    "    column_index = sheet_var.split(\"=\")[1]\n",
    "    sheet_name = sheet_var.split(\"=\")[0]\n",
    "    wss = wb[sheet_name]\n",
    "    # 迭代所有的行\n",
    "    for index, row in enumerate(wss.rows, start=2):\n",
    "        temp_value = wss.cell(row=index, column=int(column_index)).value\n",
    "        if temp_value == None:\n",
    "            continue\n",
    "        if len(temp_value) >= 20:\n",
    "            print(\"{} len =  {}  :default max20\".format(sheet_name, temp_value))\n",
    "        else:\n",
    "            print(\"Nice Job........\")"
   ],
   "metadata": {
    "collapsed": false,
    "pycharm": {
     "name": "#%%\n"
    }
   }
  },
  {
   "cell_type": "code",
   "execution_count": null,
   "outputs": [],
   "source": [],
   "metadata": {
    "collapsed": false,
    "pycharm": {
     "name": "#%%\n"
    }
   }
  }
 ],
 "metadata": {
  "kernelspec": {
   "display_name": "Python 3",
   "language": "python",
   "name": "python3"
  },
  "language_info": {
   "codemirror_mode": {
    "name": "ipython",
    "version": 2
   },
   "file_extension": ".py",
   "mimetype": "text/x-python",
   "name": "python",
   "nbconvert_exporter": "python",
   "pygments_lexer": "ipython2",
   "version": "2.7.6"
  }
 },
 "nbformat": 4,
 "nbformat_minor": 0
}